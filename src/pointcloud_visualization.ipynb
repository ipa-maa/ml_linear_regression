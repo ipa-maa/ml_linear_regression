{
 "cells": [
  {
   "cell_type": "code",
   "execution_count": 1,
   "metadata": {},
   "outputs": [],
   "source": [
    "from pointcloud import Pointcloud\n",
    "from ipywidgets import FloatSlider, interactive, IntSlider, interact\n",
    "from IPython.display import display\n",
    "from matplotlib import pyplot as plt"
   ]
  },
  {
   "cell_type": "code",
   "execution_count": 9,
   "metadata": {},
   "outputs": [
    {
     "data": {
      "application/vnd.jupyter.widget-view+json": {
       "model_id": "b19aef2abe6c4bc1adb60951ce118acd",
       "version_major": 2,
       "version_minor": 0
      },
      "text/plain": [
       "interactive(children=(FloatSlider(value=1.0, description='m', max=3.0, min=1.0, step=0.5), FloatSlider(value=1…"
      ]
     },
     "metadata": {},
     "output_type": "display_data"
    }
   ],
   "source": [
    "pc = Pointcloud()\n",
    "m = FloatSlider(min=1.0,max=3.0,step=0.5)\n",
    "c = FloatSlider(min=1.0,max=3.0,step=1.0)\n",
    "size = IntSlider(min=10,max=100,step=10)\n",
    "sigma = FloatSlider(min=1.0,max=15.0,step=2)\n",
    "y=interact(pc.generate_points, m=m, c=c, size=size, sigma=sigma)"
   ]
  },
  {
   "cell_type": "code",
   "execution_count": 21,
   "metadata": {},
   "outputs": [
    {
     "data": {
      "application/vnd.jupyter.widget-view+json": {
       "model_id": "cd2830098201459f84171983491e1fdb",
       "version_major": 2,
       "version_minor": 0
      },
      "text/plain": [
       "interactive(children=(FloatSlider(value=2.0, description='m', max=3.0, min=1.0, step=0.5), FloatSlider(value=2…"
      ]
     },
     "metadata": {},
     "output_type": "display_data"
    }
   ],
   "source": [
    "@interact(m=(1.0, 3.0, 0.5), c=(0.0, 50.0, 5.0), size=(10, 100, 10), sigma=(1.0, 25.0, 2.0))\n",
    "def plot_pointcloud(m ,c ,size ,sigma):\n",
    "    y = pc.generate_points(m=m, c=c, size=size, sigma=sigma)\n",
    "    plt.plot([x for x in range(len(y))], y, 'bo')\n",
    "    plt.plot([x for x in range(len(y))], [m*x + c for x in range(len(y))], 'r')\n",
    "    plt.grid()"
   ]
  },
  {
   "cell_type": "code",
   "execution_count": 23,
   "metadata": {},
   "outputs": [],
   "source": [
    "import numpy as np"
   ]
  }
 ],
 "metadata": {
  "kernelspec": {
   "display_name": "Python 3",
   "language": "python",
   "name": "python3"
  },
  "language_info": {
   "codemirror_mode": {
    "name": "ipython",
    "version": 3
   },
   "file_extension": ".py",
   "mimetype": "text/x-python",
   "name": "python",
   "nbconvert_exporter": "python",
   "pygments_lexer": "ipython3",
   "version": "3.7.3"
  }
 },
 "nbformat": 4,
 "nbformat_minor": 2
}
